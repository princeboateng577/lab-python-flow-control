{
 "cells": [
  {
   "cell_type": "markdown",
   "id": "d3bfc191-8885-42ee-b0a0-bbab867c6f9f",
   "metadata": {
    "tags": []
   },
   "source": [
    "# Lab | Flow Control"
   ]
  },
  {
   "cell_type": "markdown",
   "id": "3851fcd1-cf98-4653-9c89-e003b7ec9400",
   "metadata": {},
   "source": [
    "## Exercise: Managing Customer Orders Optimized\n",
    "\n",
    "In the last lab, you were starting an online store that sells various products. To ensure smooth operations, you developed a program that manages customer orders and inventory.\n",
    "\n",
    "You did so without using flow control. Let's go a step further and improve this code.\n",
    "\n",
    "Follow the steps below to complete the exercise:\n",
    "\n",
    "1. Look at your code from the lab data structures, and improve repeated code with loops.\n",
    "\n",
    "2. Instead of asking the user to input the name of three products that a customer wants to order, do the following:\n",
    "    \n",
    "    a. Prompt the user to enter the name of a product that a customer wants to order.\n",
    "    \n",
    "    b. Add the product name to the \"customer_orders\" set.\n",
    "    \n",
    "    c. Ask the user if they want to add another product (yes/no).\n",
    "    \n",
    "    d. Continue the loop until the user does not want to add another product.\n",
    "\n",
    "3. Instead of updating the inventory by subtracting 1 from the quantity of each product, only do it for  the products that were ordered (those in \"customer_orders\")."
   ]
  },
  {
   "cell_type": "code",
   "execution_count": 1,
   "id": "da3c8516-b160-46c0-a24b-0259493eee36",
   "metadata": {},
   "outputs": [
    {
     "name": "stdin",
     "output_type": "stream",
     "text": [
      "How many t-shirts do you have?:  10\n",
      "How many mugs do you have?:  20\n",
      "How many hats do you have?:  15\n",
      "How many books do you have?:  21\n",
      "How many keychains do you have?:  21\n"
     ]
    },
    {
     "name": "stdout",
     "output_type": "stream",
     "text": [
      "Inventory: {'t-shirt': 10, 'mug': 20, 'hat': 15, 'book': 21, 'keychain': 21}\n"
     ]
    },
    {
     "name": "stdin",
     "output_type": "stream",
     "text": [
      "Enter the name of a product to order:  t-shirt\n",
      "Do you want to add another product? (yes/no):  mug\n"
     ]
    },
    {
     "name": "stdout",
     "output_type": "stream",
     "text": [
      "Customer Orders: {'t-shirt'}\n",
      "Order Statistics:\n",
      "Total Products Ordered: 1\n",
      "Percentage of Products Ordered: 1.15%\n",
      "Updated Inventory:\n",
      "Product: T-shirt - 9 units\n",
      "Product: Mug - 20 units\n",
      "Product: Hat - 15 units\n",
      "Product: Book - 21 units\n",
      "Product: Keychain - 21 units\n"
     ]
    }
   ],
   "source": [
    "# Customer Orders Management\n",
    "\n",
    "# Define products and inventory dictionary\n",
    "products = [\"t-shirt\", \"mug\", \"hat\", \"book\", \"keychain\"]\n",
    "inventory = {}\n",
    "\n",
    "# Asking for inventory input using a loop\n",
    "for product in products:\n",
    "    quantity = int(input(f\"How many {product}s do you have?: \"))\n",
    "    inventory[product] = quantity\n",
    "\n",
    "print(\"Inventory:\", inventory)\n",
    "\n",
    "# Customer Orders\n",
    "customer_orders = set()\n",
    "\n",
    "while True:\n",
    "    order = input(\"Enter the name of a product to order: \").strip().lower()\n",
    "    if order in products:\n",
    "        customer_orders.add(order)\n",
    "    else:\n",
    "        print(\"Invalid product. Please enter a valid product name.\")\n",
    "    \n",
    "    another = input(\"Do you want to add another product? (yes/no): \").strip().lower()\n",
    "    if another != \"yes\":\n",
    "        break\n",
    "\n",
    "print(\"Customer Orders:\", customer_orders)\n",
    "\n",
    "# Calculate order statistics\n",
    "total_products_inventory = sum(inventory.values())\n",
    "percentage_ordered = (len(customer_orders) / total_products_inventory) * 100 if total_products_inventory > 0 else 0\n",
    "print(\"Order Statistics:\")\n",
    "print(f\"Total Products Ordered: {len(customer_orders)}\")\n",
    "print(f\"Percentage of Products Ordered: {percentage_ordered:.2f}%\")\n",
    "\n",
    "# Update inventory only for ordered products\n",
    "for order in customer_orders:\n",
    "    if inventory[order] > 0:\n",
    "        inventory[order] -= 1\n",
    "\n",
    "print(\"Updated Inventory:\")\n",
    "for key, value in inventory.items():\n",
    "    print(f\"Product: {key.capitalize()} - {value} units\")"
   ]
  },
  {
   "cell_type": "code",
   "execution_count": null,
   "id": "f40a2bc2-6f21-4d47-ba52-f082679e054e",
   "metadata": {},
   "outputs": [],
   "source": []
  }
 ],
 "metadata": {
  "kernelspec": {
   "display_name": "Python 3 (ipykernel)",
   "language": "python",
   "name": "python3"
  },
  "language_info": {
   "codemirror_mode": {
    "name": "ipython",
    "version": 3
   },
   "file_extension": ".py",
   "mimetype": "text/x-python",
   "name": "python",
   "nbconvert_exporter": "python",
   "pygments_lexer": "ipython3",
   "version": "3.9.13"
  }
 },
 "nbformat": 4,
 "nbformat_minor": 5
}
